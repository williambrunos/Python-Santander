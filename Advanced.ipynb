{
 "cells": [
  {
   "cell_type": "code",
   "execution_count": 8,
   "id": "5db2645c",
   "metadata": {},
   "outputs": [
    {
     "name": "stdout",
     "output_type": "stream",
     "text": [
      "Deseja adicionar um valor?[s/n] s\n",
      "Digite um valor: True\n",
      "Deseja adicionar um valor?[s/n] s\n",
      "Digite um valor: [1, 2, 3, 4, \"Olá\"]\n",
      "Deseja adicionar um valor?[s/n] n\n",
      "Saindo agora...\n",
      "['True', '[1, 2, 3, 4, \"Olá\"]']\n"
     ]
    }
   ],
   "source": [
    "lst = []\n",
    "ans = 'S'\n",
    "\n",
    "while ans in ['S', 's']:\n",
    "    ans = str(input(\"Deseja adicionar um valor?[s/n] \"))\n",
    "    ans = ans.upper()\n",
    "    \n",
    "    if ans not in ['s', 'S', 'n', 'N']:\n",
    "        print(\"Opção inválida\")\n",
    "    elif ans in ['N', 'n']:\n",
    "        print(\"Saindo agora...\")\n",
    "    else:\n",
    "        value = input(\"Digite um valor: \")\n",
    "        lst.append(value)\n",
    "        \n",
    "print(lst)"
   ]
  },
  {
   "cell_type": "code",
   "execution_count": 11,
   "id": "a49e1d8c",
   "metadata": {},
   "outputs": [
    {
     "name": "stdout",
     "output_type": "stream",
     "text": [
      "1 2 3 4 5\n"
     ]
    }
   ],
   "source": [
    "tpl = (1, 2, 3, 4, 5)\n",
    "a, b, c, d, e = tpl\n",
    "print(a, b, c, d, e)"
   ]
  },
  {
   "cell_type": "code",
   "execution_count": 11,
   "id": "02cb6c96",
   "metadata": {},
   "outputs": [
    {
     "name": "stdout",
     "output_type": "stream",
     "text": [
      "Google\n",
      "Let's Code\n",
      "O professor Pietro disse: \"Hoje, a pizza é por minha conta\"\n",
      "['São Paulo', 'Belo Horizonte', 'Fortaleza']\n",
      "Olá mundo\n",
      "Pietro está na mensagem\n"
     ]
    }
   ],
   "source": [
    "empresa = \"Google\"\n",
    "print(empresa)\n",
    "empresa = \"Let's Code\"\n",
    "print(empresa)\n",
    "# frase = \"O professor Pietro disse: \"Hoje, a pizza é por minha conta\"\"\"\n",
    "frase = \"O professor Pietro disse: \\\"Hoje, a pizza é por minha conta\\\"\"\n",
    "print(frase)\n",
    "\n",
    "# for i in range(len(empresa)):\n",
    "#   print(empresa[i]) \n",
    "\n",
    "    \n",
    "# Strings são imutáveis -> Métods built-in não alteram a string original, mas retornam a string modificada\n",
    "# Podemos mudar o conteúdo da string como um todo, mas não caracteres individuais\n",
    "estados = \"São Paulo, Belo Horizonte, Fortaleza\"\n",
    "print(estados.split(', '))\n",
    "\n",
    "frase_baguncada = \" Olá mundo        \"\n",
    "print(frase_baguncada.strip())\n",
    "\n",
    "if \"Pietro\" in frase:\n",
    "    print(\"Pietro está na mensagem\")\n",
    "else:\n",
    "    print(\"Pietro não está na mensagem\")"
   ]
  },
  {
   "cell_type": "code",
   "execution_count": 7,
   "id": "b89537d1",
   "metadata": {},
   "outputs": [
    {
     "name": "stdout",
     "output_type": "stream",
     "text": [
      "Sopinha sem sal temperada com sazon\n",
      "Sopinha sem sal temperada com sazonSopinha sem sal temperada com sazonSopinha sem sal temperada com sazonSopinha sem sal temperada com sazonSopinha sem sal temperada com sazon\n",
      "Felipe tem 33 e 2 filhos\n",
      "Gas price: $3.48\n"
     ]
    }
   ],
   "source": [
    "# Muitos operadores aritméticos funcionam para strings\n",
    "frase = \"Sopinha sem sal\"\n",
    "frase += \" temperada com sazon\"\n",
    "print(frase)\n",
    "print(frase * 5)\n",
    "\n",
    "# Formatação de outputs\n",
    "nome = \"Felipe\"\n",
    "idade = 33\n",
    "n_filhos = 2\n",
    "\n",
    "print(f'{nome} tem {idade} e {n_filhos} filhos')\n",
    "# print('{} tem {} e {} filhos'.format(nome, idade, n_filhos))\n",
    "\n",
    "# Formatar um valor implica no seu arredondamento de acordo com a mantissa\n",
    "gasPrice = 3.4769\n",
    "print(f'Gas price: ${gasPrice:.2f}')"
   ]
  },
  {
   "cell_type": "code",
   "execution_count": 25,
   "id": "5d8598c6",
   "metadata": {},
   "outputs": [
    {
     "name": "stdout",
     "output_type": "stream",
     "text": [
      "<class 'dict'>\n",
      "{'nome': 'Sobral', 'estado': 'CE', 'região': 'NE'}\n",
      "{'nome': 'Sobral', 'estado': 'CE', 'região': 'NE', 'país': 'Brasil'}\n",
      "Sobral\n",
      "{'nome': 'Sobral', 'estado': 'CE', 'região': 'NE', 'país': 'Brasil'}\n",
      "{'nome': 'Fortaleza', 'estado': 'CE', 'região': 'NE', 'país': 'Brasil'}\n",
      "{'nome': 'Sobral', 'estado': 'CE', 'região': 'NE', 'país': 'Brasil', 'fundação': '1814'}\n",
      "Sem prefeito\n",
      "dict_keys(['nome', 'estado', 'região', 'país', 'fundação'])\n",
      "dict_values(['Sobral', 'CE', 'NE', 'Brasil', '1814'])\n",
      "dict_items([('nome', 'Sobral'), ('estado', 'CE'), ('região', 'NE'), ('país', 'Brasil'), ('fundação', '1814')])\n"
     ]
    }
   ],
   "source": [
    "# Dicionários: coleção assossiativa desordenada -> Pares chave: valor -> Semelhante ao JSON\n",
    "dados_cidade = {\n",
    "    'nome': 'Sobral',\n",
    "    'estado': 'CE',\n",
    "    'região': 'NE',\n",
    "}\n",
    "\n",
    "print(type(dados_cidade))\n",
    "print(dados_cidade)\n",
    "\n",
    "# Podemos adicionar novos pares valores a um dicionário facilmente\n",
    "dados_cidade['país'] = 'Brasil'\n",
    "print(dados_cidade)\n",
    "\n",
    "# Podemos visualizar valores específicos em um dicionário facilmente\n",
    "print(dados_cidade['nome'])\n",
    "\n",
    "# Temos que ter cuidado com a atribuição de um dicionário a uma nova variável, pois assim como nas listas, a nova variável\n",
    "# possui a referência para o dicionário e pode alterar seu conteúdo, coisa que talvez não queiramos\n",
    "# dados_cidade_2 = dados_cidade -> ERRADO\n",
    "\n",
    "dados_cidade_2 = dados_cidade.copy()\n",
    "dados_cidade_2['nome'] = \"Fortaleza\"\n",
    "print(dados_cidade)\n",
    "print(dados_cidade_2)\n",
    "\n",
    "# Podemos ainda concatenar um dicionário a outro com o método antigo_dic.update(new_dic) -> Adicionamos novos pares\n",
    "\n",
    "ano_fundacao = {\n",
    "    'fundação': '1814',\n",
    "}\n",
    "dados_cidade.update(ano_fundacao)\n",
    "print(dados_cidade)\n",
    "\n",
    "# O método get em um dict é semelhante ao de busca de uma chave, mas ao invés de retornar um erro ele retorna None\n",
    "prefeito = dados_cidade.get(\"prefeito\")\n",
    "\n",
    "if prefeito:\n",
    "    print(f'Prefeito {prefeito}')\n",
    "else:\n",
    "    print(\"Sem prefeito\")\n",
    "    \n",
    "# Retorna uma lista com as chaves de um dict\n",
    "print(dados_cidade.keys())\n",
    "\n",
    "# Retorna os valores associados às chaves de um dict\n",
    "print(dados_cidade.values())\n",
    "\n",
    "# Retorna uma lista de tuplas com os pares chave: valor\n",
    "print(dados_cidade.items())"
   ]
  },
  {
   "cell_type": "code",
   "execution_count": 29,
   "id": "135e1ad0",
   "metadata": {},
   "outputs": [
    {
     "name": "stdout",
     "output_type": "stream",
     "text": [
      "Hello, William!\n",
      "5.5\n"
     ]
    }
   ],
   "source": [
    "# Funções -> Encapsulamento de código repetitivo ou com certo intuito, processada apenas se invocada\n",
    "# obs: Se atribuirmos valores aos atributos de uma função, estes serão valores default\n",
    "\n",
    "def sayHello(name):\n",
    "    print(f'Hello, {name}!')\n",
    "    \n",
    "def calculateMean(values):\n",
    "    sum = 0\n",
    "    for i in range(len(values)):\n",
    "        sum += values[i]\n",
    "    mean = sum / len(values)\n",
    "    \n",
    "    return mean\n",
    "    \n",
    "sayHello('William')\n",
    "mean = calculateMean([1, 2, 3, 4, 5, 6, 7, 8, 9, 10])\n",
    "print(mean)"
   ]
  },
  {
   "cell_type": "code",
   "execution_count": 42,
   "id": "7ea917da",
   "metadata": {},
   "outputs": [
    {
     "name": "stdout",
     "output_type": "stream",
     "text": [
      "(1, 2, 3, 4, 5, 6, 7, 8, 9, 10) : <class 'tuple'>\n",
      "Mean: 5.5\n",
      "Mean with margin: 6.0\n",
      "{'altura': 4, 'largura': 4, 'comprimento': 4} <class 'dict'>\n",
      "64\n"
     ]
    }
   ],
   "source": [
    "# Podemos setar que um atributo irá ser uma coleção, uma tupla. Assim, o usuário pode passar quantos argumentos ela desejar\n",
    "def showArgs(*args):\n",
    "    print(f'{args} : {type(args)}')\n",
    "    \n",
    "def calculateMeanWithArgs(*values):\n",
    "    valuesSum = sum(values)\n",
    "    mean = valuesSum / len(values)\n",
    "    return mean\n",
    "\n",
    "# Definindo funções com args, temos que ter cuidado ao passar um argumento que não deva ser inserido na coleção, mas sim em\n",
    "# outra variável. Por exemplo: na função de calcular média, podemos ter um *args e uma variável \"margin\", teremos então que\n",
    "# especificar que o valor passado no argumento da função deve ser direcionado ao parâmetro \"marign\" que é 0 por padrão\n",
    "\n",
    "# agrs -> argumentos com comprimento variável -> token chave '*'\n",
    "def calculateMeanWithArgsAndMargin(*values, margin = 0):\n",
    "    valuesSum = sum(values)\n",
    "    mean = valuesSum / len(values)\n",
    "    return mean + margin\n",
    "\n",
    "showArgs(1, 2, 3, 4, 5, 6, 7, 8, 9, 10)\n",
    "print(f'Mean: {calculateMeanWithArgs(1, 2, 3, 4, 5, 6, 7, 8, 9, 10)}')\n",
    "print(f'Mean with margin: {calculateMeanWithArgsAndMargin(1, 2, 3, 4, 5, 6, 7, 8, 9, 10, margin=0.5)}')\n",
    "\n",
    "# Podemos ainda ter parâmetros opcionais em funções -> Kargs -> **\n",
    "# Um kargs é mapeado em um dicionário, e cada argumento deve ser nomeado com um par chave valor\n",
    "\n",
    "# kargs -> argumentos opcionais -> token chave '**''\n",
    "\n",
    "def calculateVolum(**kargs):\n",
    "    print(kargs, type(kargs))\n",
    "    values = kargs.values()\n",
    "    volum = 1\n",
    "    for value in values:\n",
    "        volum *= value\n",
    "    \n",
    "    return volum\n",
    "\n",
    "print(calculateVolum(altura = 4, largura = 4, comprimento = 4))"
   ]
  },
  {
   "cell_type": "code",
   "execution_count": null,
   "id": "b6e0c2ba",
   "metadata": {},
   "outputs": [],
   "source": []
  }
 ],
 "metadata": {
  "kernelspec": {
   "display_name": "Python 3 (ipykernel)",
   "language": "python",
   "name": "python3"
  },
  "language_info": {
   "codemirror_mode": {
    "name": "ipython",
    "version": 3
   },
   "file_extension": ".py",
   "mimetype": "text/x-python",
   "name": "python",
   "nbconvert_exporter": "python",
   "pygments_lexer": "ipython3",
   "version": "3.7.6"
  }
 },
 "nbformat": 4,
 "nbformat_minor": 5
}
