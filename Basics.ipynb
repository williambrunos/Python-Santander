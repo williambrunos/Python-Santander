{
 "cells": [
  {
   "cell_type": "code",
   "execution_count": 1,
   "id": "a7034433",
   "metadata": {},
   "outputs": [
    {
     "name": "stdout",
     "output_type": "stream",
     "text": [
      "Hello, world!\n"
     ]
    }
   ],
   "source": [
    "print(\"Hello, world!\")"
   ]
  },
  {
   "cell_type": "code",
   "execution_count": 2,
   "id": "374a5d94",
   "metadata": {},
   "outputs": [],
   "source": [
    "interger = 34\n",
    "floating = 34.56\n",
    "boolean = True\n",
    "other_boolean = False\n",
    "literal = \"Hello, Python!\""
   ]
  },
  {
   "cell_type": "code",
   "execution_count": 5,
   "id": "36d3d1fa",
   "metadata": {},
   "outputs": [
    {
     "name": "stdout",
     "output_type": "stream",
     "text": [
      "How old are you? 8\n",
      "Is not major!\n"
     ]
    }
   ],
   "source": [
    "age = int(input(\"How old are you? \"))\n",
    "\n",
    "if age >= 18:\n",
    "    print(\"Is Major!\")\n",
    "else:\n",
    "    print(\"Is not major!\")"
   ]
  },
  {
   "cell_type": "code",
   "execution_count": 3,
   "id": "457ddfc5",
   "metadata": {},
   "outputs": [
    {
     "name": "stdout",
     "output_type": "stream",
     "text": [
      "Digite um inteiro: 3\n",
      "Digite um real: 3.456\n",
      "Digite uma string: william\n",
      "Número: 3 ; <class 'int'>\n",
      "Real: 3.456 ; <class 'float'>\n",
      "Caractere(String): william ; <class 'str'>\n"
     ]
    }
   ],
   "source": [
    "integer = int(input(\"Digite um inteiro: \"))\n",
    "floating = float(input(\"Digite um real: \"))\n",
    "character = str(input(\"Digite uma string: \"))\n",
    "\n",
    "print(f\"Número: {integer} ; {type(integer)}\")\n",
    "print(f\"Real: {floating} ; {type(floating)}\")\n",
    "print(f\"Caractere(String): {character} ; {type(character)}\")"
   ]
  },
  {
   "cell_type": "code",
   "execution_count": 9,
   "id": "b28c1120",
   "metadata": {},
   "outputs": [
    {
     "name": "stdout",
     "output_type": "stream",
     "text": [
      "Digite sua idade: 18\n",
      "Maior de idade\n"
     ]
    }
   ],
   "source": [
    "age = float(input(\"Digite sua idade: \"))\n",
    "\n",
    "if age <= 0:\n",
    "    print(\"Idade inválida\")\n",
    "elif age < 18:\n",
    "    print(\"Menor de idade\")\n",
    "else:\n",
    "    print(\"Maior de idade\")"
   ]
  },
  {
   "cell_type": "code",
   "execution_count": 6,
   "id": "65b38bcc",
   "metadata": {},
   "outputs": [
    {
     "name": "stdout",
     "output_type": "stream",
     "text": [
      "Digite uma senha: Let's Code\n",
      "Acesso garantido\n"
     ]
    }
   ],
   "source": [
    "text = str(input(\"Digite uma senha: \"))\n",
    "password = \"Let's Code\"\n",
    "while text != password:\n",
    "    print(\"Senha inválida! Tente novamente\")\n",
    "    text = str(input(\"Digite uma senha: \"))\n",
    "    \n",
    "print(\"Acesso garantido\")"
   ]
  },
  {
   "cell_type": "code",
   "execution_count": null,
   "id": "02797e3e",
   "metadata": {},
   "outputs": [],
   "source": []
  }
 ],
 "metadata": {
  "kernelspec": {
   "display_name": "Python 3 (ipykernel)",
   "language": "python",
   "name": "python3"
  },
  "language_info": {
   "codemirror_mode": {
    "name": "ipython",
    "version": 3
   },
   "file_extension": ".py",
   "mimetype": "text/x-python",
   "name": "python",
   "nbconvert_exporter": "python",
   "pygments_lexer": "ipython3",
   "version": "3.7.6"
  }
 },
 "nbformat": 4,
 "nbformat_minor": 5
}
